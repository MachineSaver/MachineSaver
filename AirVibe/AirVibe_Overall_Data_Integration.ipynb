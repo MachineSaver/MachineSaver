{
  "nbformat": 4,
  "nbformat_minor": 0,
  "metadata": {
    "colab": {
      "provenance": [],
      "authorship_tag": "ABX9TyO3r6qsq/M0oiKI8RyV/1Nk",
      "include_colab_link": true
    },
    "kernelspec": {
      "name": "python3",
      "display_name": "Python 3"
    },
    "language_info": {
      "name": "python"
    }
  },
  "cells": [
    {
      "cell_type": "markdown",
      "metadata": {
        "id": "view-in-github",
        "colab_type": "text"
      },
      "source": [
        "<a href=\"https://colab.research.google.com/github/MachineSaver/MachineSaver/blob/main/AirVibe_Overall_Data_Integration.ipynb\" target=\"_parent\"><img src=\"https://colab.research.google.com/assets/colab-badge.svg\" alt=\"Open In Colab\"/></a>"
      ]
    },
    {
      "cell_type": "markdown",
      "source": [
        "# 1. Sign Up For an Account @ [https://url.machinesaver.com/airvibe_activation](https://url.machinesaver.com/airvibe_activation)\n",
        "# 2. Scan QR code to claim an AirVibe"
      ],
      "metadata": {
        "id": "Y8nBZNoEvtc_"
      }
    },
    {
      "cell_type": "markdown",
      "source": [
        "# 3. Programmatically Retrieve LoRa Credentials"
      ],
      "metadata": {
        "id": "9IceDR49w5EO"
      }
    },
    {
      "cell_type": "code",
      "source": [
        "import json\n",
        "import requests"
      ],
      "metadata": {
        "id": "R0wItyW0s6bM"
      },
      "execution_count": null,
      "outputs": []
    },
    {
      "cell_type": "code",
      "source": [
        "def get_auth_token(login: str, password: str) -> str:\n",
        "  \"\"\"Login to Machine Saver Activation API and retrieve access token.\"\"\"\n",
        "  url = \"https://ap-api.wipom.net/api/auth/login\"\n",
        "  headers = {'Content-Type': 'application/json'}\n",
        "  data = json.dumps({'login': login, 'password': password})\n",
        "\n",
        "  response = requests.post(url, headers=headers, data=data)\n",
        "\n",
        "  if response.status_code == 200:\n",
        "    token_data = response.json()\n",
        "    access_token = token_data['data']['accessToken']\n",
        "    print(access_token)\n",
        "    return access_token\n",
        "  else:\n",
        "    print(f\"Failed to login: {response.status_code} - {response.text}\")\n",
        "    return None\n"
      ],
      "metadata": {
        "id": "zPHXHAPVs9zK"
      },
      "execution_count": null,
      "outputs": []
    },
    {
      "cell_type": "code",
      "source": [
        "access_token = get_auth_token(login=\"activation_portal_login\", password=\"activation_portal_pass\")"
      ],
      "metadata": {
        "colab": {
          "base_uri": "https://localhost:8080/"
        },
        "id": "d1rvqFxrtAu5",
        "outputId": "fbac2131-2d11-4f87-bfb2-b1c338608e60"
      },
      "execution_count": null,
      "outputs": [
        {
          "output_type": "stream",
          "name": "stdout",
          "text": [
            "Failed to login: 400 - {\"data\":null,\"id\":\"334370a6-3282-4074-a0ad-6363ff068651\",\"timestamp\":\"2025-03-13T18:13:20.6980922Z\",\"message\":\"Login / password information are incorrect.\",\"success\":false}\n"
          ]
        }
      ]
    },
    {
      "cell_type": "code",
      "source": [
        "def get_with_EUI_AC(dev_eui: str, access_code: str, access_token: str) -> dict:\n",
        "    \"\"\"Get tags list for a specific device from Machine Saver API.\"\"\"\n",
        "    url = f\"https://ap-api.wipom.net/api/devices/search?eui={dev_eui}&ac={access_code}\"\n",
        "    headers = {'Authorization': f'Bearer {access_token}'}\n",
        "\n",
        "    response = requests.get(url, headers=headers)\n",
        "\n",
        "    if response.status_code == 200:\n",
        "        return response.json()\n",
        "    else:\n",
        "        print(f\"Failed to fetch tag list: {response.status_code} - {response.text}\")\n",
        "        return None"
      ],
      "metadata": {
        "id": "nN62--wttJ8A"
      },
      "execution_count": null,
      "outputs": []
    },
    {
      "cell_type": "code",
      "source": [
        "get_with_EUI_AC(dev_eui=\"8C1F642113000017\", access_code=\"74475383\", access_token=access_token)"
      ],
      "metadata": {
        "colab": {
          "base_uri": "https://localhost:8080/"
        },
        "id": "to8kh9g-tLGS",
        "outputId": "29059de0-da68-4ba3-ad8d-82eff069897e"
      },
      "execution_count": null,
      "outputs": [
        {
          "output_type": "execute_result",
          "data": {
            "text/plain": [
              "{'data': [{'serial': '3000017',\n",
              "   'devEUI': '8C-1F-64-21-13-00-00-17',\n",
              "   'appEUI': '8C1F64211FFFFFFF',\n",
              "   'appKey': '07E80716143027BDDAB969DA698B124C',\n",
              "   'fPort': 0,\n",
              "   'activationCode': '74475383',\n",
              "   'accountId': 17,\n",
              "   'type': 'LoRaWAN',\n",
              "   'name': '3000017',\n",
              "   'partNumber': 'WB-L-1',\n",
              "   'firmwareVersion': '1.01',\n",
              "   'createDate': '2024-08-22T20:48:41.305156Z',\n",
              "   'password': '',\n",
              "   'imei': '',\n",
              "   'macAddress': '',\n",
              "   'netAddressList': '',\n",
              "   'bipomSerial': '',\n",
              "   'isClaimed': False,\n",
              "   'claimAccountId': 0}],\n",
              " 'id': '05d3851b-4d36-4a23-9dd4-ef95bb429ba4',\n",
              " 'timestamp': '2025-03-13T18:18:20.1930383Z',\n",
              " 'message': '',\n",
              " 'success': True}"
            ]
          },
          "metadata": {},
          "execution_count": 18
        }
      ]
    },
    {
      "cell_type": "code",
      "source": [
        "def get_with_serial(serial: str, access_token: str) -> dict:\n",
        "    \"\"\"Get data for a specific device from Machine Saver API.\"\"\"\n",
        "    url = f\"https://ap-api.wipom.net/api/devices/serial?pattern={serial}\"\n",
        "    headers = {'Authorization': f'Bearer {access_token}'}\n",
        "\n",
        "    response = requests.get(url, headers=headers)\n",
        "\n",
        "    if response.status_code == 200:\n",
        "        return response.json()\n",
        "    else:\n",
        "        print(f\"Failed to fetch: {response.status_code} - {response.text}\")\n",
        "        return None"
      ],
      "metadata": {
        "id": "JuImT7D9tPw-"
      },
      "execution_count": null,
      "outputs": []
    },
    {
      "cell_type": "code",
      "source": [
        "get_with_serial(serial=\"3000017\", access_token=access_token)"
      ],
      "metadata": {
        "colab": {
          "base_uri": "https://localhost:8080/"
        },
        "id": "-bEgHQE2t6II",
        "outputId": "00886aca-a3cf-4928-846f-4f79d0156261"
      },
      "execution_count": null,
      "outputs": [
        {
          "output_type": "execute_result",
          "data": {
            "text/plain": [
              "{'data': [{'serial': '3000017',\n",
              "   'devEUI': '8C-1F-64-21-13-00-00-17',\n",
              "   'appEUI': '8C1F64211FFFFFFF',\n",
              "   'appKey': '07E80716143027BDDAB969DA698B124C',\n",
              "   'fPort': 0,\n",
              "   'activationCode': '74475383',\n",
              "   'accountId': 17,\n",
              "   'type': 'LoRaWAN',\n",
              "   'name': '3000017',\n",
              "   'partNumber': 'WB-L-1',\n",
              "   'firmwareVersion': '1.01',\n",
              "   'createDate': '2024-08-22T20:48:41.305156Z',\n",
              "   'password': '',\n",
              "   'imei': '',\n",
              "   'macAddress': '',\n",
              "   'netAddressList': '',\n",
              "   'bipomSerial': '',\n",
              "   'isClaimed': False,\n",
              "   'claimAccountId': 0}],\n",
              " 'id': 'bc4f5c0f-d4b1-487a-b61e-dbc263f60e0d',\n",
              " 'timestamp': '2025-03-13T18:18:21.8785765Z',\n",
              " 'message': '',\n",
              " 'success': True}"
            ]
          },
          "metadata": {},
          "execution_count": 20
        }
      ]
    },
    {
      "cell_type": "markdown",
      "source": [
        "# 4. Wake Up AirVibe\n",
        "# 5. Decode Overall LoRa Packets"
      ],
      "metadata": {
        "id": "c2vsWKtFxAo5"
      }
    },
    {
      "cell_type": "markdown",
      "source": [
        "![image.png](data:image/png;base64,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)"
      ],
      "metadata": {
        "id": "ZjPW_iJKyFab"
      }
    },
    {
      "cell_type": "markdown",
      "source": [
        "* BYTE 00 : Type (1 - Timewave, 2 - Overall)\n",
        "* BYTE 01 : Status (0 - OK, not 0 - error)\n",
        "* BYTE 02 : Firmware Revision  (always 0 for now)\n",
        "* BYTE 03 : Temperature\n",
        "* BYTE 04 : Humidity (always 0 for now)\n",
        "* BYTE 05 : Battery\n",
        "* BYTE 06 : Supply Voltage  (always 0 for now)\n",
        "* BYTE 07 - 08 :  Acceleration X\n",
        "* BYTE 09 - 10 :  Acceleration Y\n",
        "* BYTE 11 - 12 :  Acceleration Z\n",
        "* BYTE 13 - 14 :  Velocity X\n",
        "* BYTE 15 - 16 :  Velocity Y\n",
        "* BYTE 16 - 17 :  Velocity Z"
      ],
      "metadata": {
        "id": "C_L0PEBWyKF9"
      }
    },
    {
      "cell_type": "code",
      "source": [
        "import struct\n",
        "import numpy as np\n",
        "\n",
        "def decode_payload(payload_hex):\n",
        "    # Convert hex string to bytes\n",
        "    payload_bytes = bytes.fromhex(payload_hex.replace(\" \", \"\"))\n",
        "\n",
        "    # Unpack the data\n",
        "    type_byte, status, firmware_rev, temperature, humidity, battery, supply_voltage = struct.unpack('>BBBBBBB', payload_bytes[:7])\n",
        "    acc_x, acc_y, acc_z, vel_x, vel_y, vel_z = struct.unpack('>HHHHHH', payload_bytes[7:19])\n",
        "\n",
        "    # Convert acceleration and velocity to float and divide by 1000\n",
        "    float_values = [np.float16(v).astype(np.float32) / 1000 for v in [acc_x, acc_y, acc_z, vel_x, vel_y, vel_z]]\n",
        "\n",
        "    # Create a dictionary with the decoded values\n",
        "    decoded = {\n",
        "        'Type': 'Timewave' if type_byte == 1 else 'Overall' if type_byte == 2 else 'Unknown',\n",
        "        'Status': 'OK' if status == 0 else f'Error ({status})',\n",
        "        'Firmware Revision': firmware_rev,\n",
        "        'Temperature': temperature,\n",
        "        'Humidity': humidity,\n",
        "        'Battery': battery,\n",
        "        'Supply Voltage': supply_voltage,\n",
        "        'Acceleration_Axis_1': float_values[0],\n",
        "        'Acceleration_Axis_2': float_values[1],\n",
        "        'Acceleration_Axis_3': float_values[2],\n",
        "        'Velocity_Axis_1': float_values[3],\n",
        "        'Velocity_Axis_2': float_values[4],\n",
        "        'Velocity_Axis_3': float_values[5]\n",
        "    }\n",
        "\n",
        "    return decoded\n",
        "\n",
        "# Example usage\n",
        "payload = \"02 00 00 19 00 64 00 00 09 00 09 00 0B 00 08 00 05 00 03\"\n",
        "result = decode_payload(payload)\n",
        "\n",
        "for key, value in result.items():\n",
        "    print(f\"{key}: {value}\")"
      ],
      "metadata": {
        "id": "q3iVJyStyKw6"
      },
      "execution_count": null,
      "outputs": []
    }
  ]
}