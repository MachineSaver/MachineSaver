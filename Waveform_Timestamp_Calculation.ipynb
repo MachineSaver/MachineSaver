{
  "nbformat": 4,
  "nbformat_minor": 0,
  "metadata": {
    "colab": {
      "provenance": [],
      "toc_visible": true,
      "authorship_tag": "ABX9TyOha70tCA7SZQG9eWxD+HQ2",
      "include_colab_link": true
    },
    "kernelspec": {
      "name": "python3",
      "display_name": "Python 3"
    },
    "language_info": {
      "name": "python"
    }
  },
  "cells": [
    {
      "cell_type": "markdown",
      "metadata": {
        "id": "view-in-github",
        "colab_type": "text"
      },
      "source": [
        "<a href=\"https://colab.research.google.com/github/MachineSaver/MachineSaver/blob/main/Waveform_Timestamp_Calculation.ipynb\" target=\"_parent\"><img src=\"https://colab.research.google.com/assets/colab-badge.svg\" alt=\"Open In Colab\"/></a>"
      ]
    },
    {
      "cell_type": "markdown",
      "source": [
        "Get waveform times in fractions of a second."
      ],
      "metadata": {
        "id": "unYkrAmEwMZD"
      }
    },
    {
      "cell_type": "code",
      "source": [
        "samples_per_axis = 100\n",
        "time_ms = 250"
      ],
      "metadata": {
        "id": "k_guC3giBAQR"
      },
      "execution_count": 11,
      "outputs": []
    },
    {
      "cell_type": "code",
      "source": [
        "import numpy as np\n",
        "\n",
        "def x_axis_values(samples, time):\n",
        "  fs = samples/(time/1000)\n",
        "  time_array_seconds = np.arange(0,time/1000,1/fs)\n",
        "  return time_array_seconds\n"
      ],
      "metadata": {
        "id": "qfDfmYOQBLsX"
      },
      "execution_count": 12,
      "outputs": []
    },
    {
      "cell_type": "code",
      "source": [
        "print(x_axis_values(samples_per_axis, time_ms))"
      ],
      "metadata": {
        "colab": {
          "base_uri": "https://localhost:8080/"
        },
        "id": "rOfOyrnPBlgj",
        "outputId": "62131a01-a544-4cf2-a2d4-778c7597c95b"
      },
      "execution_count": 13,
      "outputs": [
        {
          "output_type": "stream",
          "name": "stdout",
          "text": [
            "[0.     0.0025 0.005  0.0075 0.01   0.0125 0.015  0.0175 0.02   0.0225\n",
            " 0.025  0.0275 0.03   0.0325 0.035  0.0375 0.04   0.0425 0.045  0.0475\n",
            " 0.05   0.0525 0.055  0.0575 0.06   0.0625 0.065  0.0675 0.07   0.0725\n",
            " 0.075  0.0775 0.08   0.0825 0.085  0.0875 0.09   0.0925 0.095  0.0975\n",
            " 0.1    0.1025 0.105  0.1075 0.11   0.1125 0.115  0.1175 0.12   0.1225\n",
            " 0.125  0.1275 0.13   0.1325 0.135  0.1375 0.14   0.1425 0.145  0.1475\n",
            " 0.15   0.1525 0.155  0.1575 0.16   0.1625 0.165  0.1675 0.17   0.1725\n",
            " 0.175  0.1775 0.18   0.1825 0.185  0.1875 0.19   0.1925 0.195  0.1975\n",
            " 0.2    0.2025 0.205  0.2075 0.21   0.2125 0.215  0.2175 0.22   0.2225\n",
            " 0.225  0.2275 0.23   0.2325 0.235  0.2375 0.24   0.2425 0.245  0.2475]\n"
          ]
        }
      ]
    },
    {
      "cell_type": "markdown",
      "source": [
        "Get waveform times in datetime format."
      ],
      "metadata": {
        "id": "Jx1UoErzwRWJ"
      }
    },
    {
      "cell_type": "code",
      "source": [
        "import datetime\n",
        "import numpy as np\n",
        "\n",
        "def x_axis_values_dates(samples, time):\n",
        "    fs = samples / (time / 1000)\n",
        "    time_array_seconds = np.arange(0, time / 1000, 1 / fs)\n",
        "    start_time = datetime.datetime.now().replace(microsecond=0) - datetime.timedelta(seconds=time_array_seconds[-1])\n",
        "    time_array_datetimes = [start_time + datetime.timedelta(seconds=ts) for ts in time_array_seconds]\n",
        "    return time_array_datetimes"
      ],
      "metadata": {
        "id": "85q5EiwawAIH"
      },
      "execution_count": 14,
      "outputs": []
    },
    {
      "cell_type": "code",
      "source": [
        "print(x_axis_values_dates(samples_per_axis, time_ms))"
      ],
      "metadata": {
        "colab": {
          "base_uri": "https://localhost:8080/"
        },
        "id": "ZbJn0Vg6wC2p",
        "outputId": "2b3df6ad-710d-4856-b8a8-def703d1ba54"
      },
      "execution_count": 15,
      "outputs": [
        {
          "output_type": "stream",
          "name": "stdout",
          "text": [
            "[datetime.datetime(2023, 2, 17, 19, 3, 57, 752500), datetime.datetime(2023, 2, 17, 19, 3, 57, 755000), datetime.datetime(2023, 2, 17, 19, 3, 57, 757500), datetime.datetime(2023, 2, 17, 19, 3, 57, 760000), datetime.datetime(2023, 2, 17, 19, 3, 57, 762500), datetime.datetime(2023, 2, 17, 19, 3, 57, 765000), datetime.datetime(2023, 2, 17, 19, 3, 57, 767500), datetime.datetime(2023, 2, 17, 19, 3, 57, 770000), datetime.datetime(2023, 2, 17, 19, 3, 57, 772500), datetime.datetime(2023, 2, 17, 19, 3, 57, 775000), datetime.datetime(2023, 2, 17, 19, 3, 57, 777500), datetime.datetime(2023, 2, 17, 19, 3, 57, 780000), datetime.datetime(2023, 2, 17, 19, 3, 57, 782500), datetime.datetime(2023, 2, 17, 19, 3, 57, 785000), datetime.datetime(2023, 2, 17, 19, 3, 57, 787500), datetime.datetime(2023, 2, 17, 19, 3, 57, 790000), datetime.datetime(2023, 2, 17, 19, 3, 57, 792500), datetime.datetime(2023, 2, 17, 19, 3, 57, 795000), datetime.datetime(2023, 2, 17, 19, 3, 57, 797500), datetime.datetime(2023, 2, 17, 19, 3, 57, 800000), datetime.datetime(2023, 2, 17, 19, 3, 57, 802500), datetime.datetime(2023, 2, 17, 19, 3, 57, 805000), datetime.datetime(2023, 2, 17, 19, 3, 57, 807500), datetime.datetime(2023, 2, 17, 19, 3, 57, 810000), datetime.datetime(2023, 2, 17, 19, 3, 57, 812500), datetime.datetime(2023, 2, 17, 19, 3, 57, 815000), datetime.datetime(2023, 2, 17, 19, 3, 57, 817500), datetime.datetime(2023, 2, 17, 19, 3, 57, 820000), datetime.datetime(2023, 2, 17, 19, 3, 57, 822500), datetime.datetime(2023, 2, 17, 19, 3, 57, 825000), datetime.datetime(2023, 2, 17, 19, 3, 57, 827500), datetime.datetime(2023, 2, 17, 19, 3, 57, 830000), datetime.datetime(2023, 2, 17, 19, 3, 57, 832500), datetime.datetime(2023, 2, 17, 19, 3, 57, 835000), datetime.datetime(2023, 2, 17, 19, 3, 57, 837500), datetime.datetime(2023, 2, 17, 19, 3, 57, 840000), datetime.datetime(2023, 2, 17, 19, 3, 57, 842500), datetime.datetime(2023, 2, 17, 19, 3, 57, 845000), datetime.datetime(2023, 2, 17, 19, 3, 57, 847500), datetime.datetime(2023, 2, 17, 19, 3, 57, 850000), datetime.datetime(2023, 2, 17, 19, 3, 57, 852500), datetime.datetime(2023, 2, 17, 19, 3, 57, 855000), datetime.datetime(2023, 2, 17, 19, 3, 57, 857500), datetime.datetime(2023, 2, 17, 19, 3, 57, 860000), datetime.datetime(2023, 2, 17, 19, 3, 57, 862500), datetime.datetime(2023, 2, 17, 19, 3, 57, 865000), datetime.datetime(2023, 2, 17, 19, 3, 57, 867500), datetime.datetime(2023, 2, 17, 19, 3, 57, 870000), datetime.datetime(2023, 2, 17, 19, 3, 57, 872500), datetime.datetime(2023, 2, 17, 19, 3, 57, 875000), datetime.datetime(2023, 2, 17, 19, 3, 57, 877500), datetime.datetime(2023, 2, 17, 19, 3, 57, 880000), datetime.datetime(2023, 2, 17, 19, 3, 57, 882500), datetime.datetime(2023, 2, 17, 19, 3, 57, 885000), datetime.datetime(2023, 2, 17, 19, 3, 57, 887500), datetime.datetime(2023, 2, 17, 19, 3, 57, 890000), datetime.datetime(2023, 2, 17, 19, 3, 57, 892500), datetime.datetime(2023, 2, 17, 19, 3, 57, 895000), datetime.datetime(2023, 2, 17, 19, 3, 57, 897500), datetime.datetime(2023, 2, 17, 19, 3, 57, 900000), datetime.datetime(2023, 2, 17, 19, 3, 57, 902500), datetime.datetime(2023, 2, 17, 19, 3, 57, 905000), datetime.datetime(2023, 2, 17, 19, 3, 57, 907500), datetime.datetime(2023, 2, 17, 19, 3, 57, 910000), datetime.datetime(2023, 2, 17, 19, 3, 57, 912500), datetime.datetime(2023, 2, 17, 19, 3, 57, 915000), datetime.datetime(2023, 2, 17, 19, 3, 57, 917500), datetime.datetime(2023, 2, 17, 19, 3, 57, 920000), datetime.datetime(2023, 2, 17, 19, 3, 57, 922500), datetime.datetime(2023, 2, 17, 19, 3, 57, 925000), datetime.datetime(2023, 2, 17, 19, 3, 57, 927500), datetime.datetime(2023, 2, 17, 19, 3, 57, 930000), datetime.datetime(2023, 2, 17, 19, 3, 57, 932500), datetime.datetime(2023, 2, 17, 19, 3, 57, 935000), datetime.datetime(2023, 2, 17, 19, 3, 57, 937500), datetime.datetime(2023, 2, 17, 19, 3, 57, 940000), datetime.datetime(2023, 2, 17, 19, 3, 57, 942500), datetime.datetime(2023, 2, 17, 19, 3, 57, 945000), datetime.datetime(2023, 2, 17, 19, 3, 57, 947500), datetime.datetime(2023, 2, 17, 19, 3, 57, 950000), datetime.datetime(2023, 2, 17, 19, 3, 57, 952500), datetime.datetime(2023, 2, 17, 19, 3, 57, 955000), datetime.datetime(2023, 2, 17, 19, 3, 57, 957500), datetime.datetime(2023, 2, 17, 19, 3, 57, 960000), datetime.datetime(2023, 2, 17, 19, 3, 57, 962500), datetime.datetime(2023, 2, 17, 19, 3, 57, 965000), datetime.datetime(2023, 2, 17, 19, 3, 57, 967500), datetime.datetime(2023, 2, 17, 19, 3, 57, 970000), datetime.datetime(2023, 2, 17, 19, 3, 57, 972500), datetime.datetime(2023, 2, 17, 19, 3, 57, 975000), datetime.datetime(2023, 2, 17, 19, 3, 57, 977500), datetime.datetime(2023, 2, 17, 19, 3, 57, 980000), datetime.datetime(2023, 2, 17, 19, 3, 57, 982500), datetime.datetime(2023, 2, 17, 19, 3, 57, 985000), datetime.datetime(2023, 2, 17, 19, 3, 57, 987500), datetime.datetime(2023, 2, 17, 19, 3, 57, 990000), datetime.datetime(2023, 2, 17, 19, 3, 57, 992500), datetime.datetime(2023, 2, 17, 19, 3, 57, 995000), datetime.datetime(2023, 2, 17, 19, 3, 57, 997500), datetime.datetime(2023, 2, 17, 19, 3, 58)]\n"
          ]
        }
      ]
    },
    {
      "cell_type": "code",
      "source": [],
      "metadata": {
        "id": "Qg_j9-o7wvsN"
      },
      "execution_count": null,
      "outputs": []
    }
  ]
}